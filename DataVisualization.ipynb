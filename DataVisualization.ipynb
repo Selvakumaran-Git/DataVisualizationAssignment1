{
  "nbformat": 4,
  "nbformat_minor": 0,
  "metadata": {
    "colab": {
      "name": "DataVisualization.ipynb",
      "provenance": []
    },
    "kernelspec": {
      "name": "python3",
      "display_name": "Python 3"
    },
    "language_info": {
      "name": "python"
    }
  },
  "cells": [
    {
      "cell_type": "code",
      "metadata": {
        "id": "WhiagMXsOw92"
      },
      "source": [
        "import numpy as np\n",
        "import pandas as pd\n",
        "import seaborn as sns\n",
        "\n",
        "import matplotlib as mpl\n",
        "import matplotlib.pyplot as plt\n",
        "%matplotlib inline"
      ],
      "execution_count": 3,
      "outputs": []
    },
    {
      "cell_type": "code",
      "metadata": {
        "colab": {
          "base_uri": "https://localhost:8080/"
        },
        "id": "CrQpn2COPnK8",
        "outputId": "4132933e-8786-4292-b0e1-2483925ac92a"
      },
      "source": [
        "print(\"Matplotlib version is\", mpl.__version__)"
      ],
      "execution_count": 4,
      "outputs": [
        {
          "output_type": "stream",
          "text": [
            "Matplotlib version is 3.2.2\n"
          ],
          "name": "stdout"
        }
      ]
    },
    {
      "cell_type": "code",
      "metadata": {
        "id": "05DXJ5cCP5Wr"
      },
      "source": [
        "#print(plt.style.available)"
      ],
      "execution_count": 5,
      "outputs": []
    },
    {
      "cell_type": "code",
      "metadata": {
        "colab": {
          "base_uri": "https://localhost:8080/",
          "height": 313
        },
        "id": "rSW6jIXUQGSm",
        "outputId": "87df4b6c-e996-437b-cec7-29237ae2cdb6"
      },
      "source": [
        "x = np.arange(0,10)\n",
        "y = x * 2\n",
        "\n",
        "plt.plot(x,y,'r*',linestyle='dashed',linewidth=2,markersize=12)\n",
        "plt.title(\"Line Plot\", color='blue')\n",
        "plt.xlabel(\"X axis\", color='blue')\n",
        "plt.ylabel(\"Y axis\", color='blue')\n",
        "plt.plot(x,y)"
      ],
      "execution_count": 8,
      "outputs": [
        {
          "output_type": "execute_result",
          "data": {
            "text/plain": [
              "[<matplotlib.lines.Line2D at 0x7f5a5b6e6c50>]"
            ]
          },
          "metadata": {
            "tags": []
          },
          "execution_count": 8
        },
        {
          "output_type": "display_data",
          "data": {
            "image/png": "[encoded data removed]",
            "text/plain": [
              "<Figure size 432x288 with 1 Axes>"
            ]
          },
          "metadata": {
            "tags": [],
            "needs_background": "light"
          }
        }
      ]
    }
  ]
}